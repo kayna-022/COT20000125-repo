{
 "cells": [
  {
   "cell_type": "markdown",
   "id": "a5c07da9",
   "metadata": {},
   "source": [
    "# Lab 4: Sets in Python"
   ]
  },
  {
   "cell_type": "code",
   "execution_count": 2,
   "id": "3fd87a3f",
   "metadata": {},
   "outputs": [
    {
     "name": "stdout",
     "output_type": "stream",
     "text": [
      "{1, 2, 3, 5}\n",
      "True\n",
      "False\n",
      "False\n",
      "False\n"
     ]
    }
   ],
   "source": [
    "A = {1, 2, 3}\n",
    "B = {2, 3, 4}\n",
    "\n",
    "A.add(5)\n",
    "print(A)\n",
    "print(3 in A)\n",
    "print(6 in A)\n",
    "print(A.issubset(B))\n",
    "print(A.issuperset(B))\n"
   ]
  },
  {
   "cell_type": "code",
   "execution_count": 4,
   "id": "d54bc74e",
   "metadata": {},
   "outputs": [
    {
     "name": "stdout",
     "output_type": "stream",
     "text": [
      "{1, 2, 3, 4, 5}\n",
      "{2, 3}\n",
      "{1, 5}\n"
     ]
    }
   ],
   "source": [
    "print(A | B)\n",
    "print(A & B)\n",
    "print(A - B)\n"
   ]
  },
  {
   "cell_type": "code",
   "execution_count": 6,
   "id": "fd92de06",
   "metadata": {},
   "outputs": [
    {
     "name": "stdout",
     "output_type": "stream",
     "text": [
      "{(2, 3), (2, 4), (1, 3), (1, 4)}\n"
     ]
    }
   ],
   "source": [
    "from itertools import product\n",
    "\n",
    "X = {1, 2}\n",
    "Y = {3, 4}\n",
    "\n",
    "print(set(product(X, Y)))\n"
   ]
  },
  {
   "cell_type": "code",
   "execution_count": 8,
   "id": "3eb4ffae",
   "metadata": {},
   "outputs": [
    {
     "name": "stdout",
     "output_type": "stream",
     "text": [
      "{(2, 3), (1, 2), (3, 4)}\n"
     ]
    }
   ],
   "source": [
    "relation = {(1, 2), (2, 3), (3, 4)}\n",
    "print(relation)\n"
   ]
  },
  {
   "cell_type": "code",
   "execution_count": 10,
   "id": "71328d5e",
   "metadata": {},
   "outputs": [
    {
     "name": "stdout",
     "output_type": "stream",
     "text": [
      "True\n"
     ]
    }
   ],
   "source": [
    "function = {(1, 2), (2, 4), (3, 6)}\n",
    "inputs = [x[0] for x in function]\n",
    "print(len(inputs) == len(function))\n"
   ]
  },
  {
   "cell_type": "code",
   "execution_count": null,
   "id": "2eade411-8e67-4f8f-bbcf-2e1383c9825c",
   "metadata": {},
   "outputs": [],
   "source": []
  }
 ],
 "metadata": {
  "kernelspec": {
   "display_name": "Python 3 (ipykernel)",
   "language": "python",
   "name": "python3"
  },
  "language_info": {
   "codemirror_mode": {
    "name": "ipython",
    "version": 3
   },
   "file_extension": ".py",
   "mimetype": "text/x-python",
   "name": "python",
   "nbconvert_exporter": "python",
   "pygments_lexer": "ipython3",
   "version": "3.12.4"
  }
 },
 "nbformat": 4,
 "nbformat_minor": 5
}
